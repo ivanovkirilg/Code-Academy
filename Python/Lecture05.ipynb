{
 "metadata": {
  "language_info": {
   "codemirror_mode": {
    "name": "ipython",
    "version": 3
   },
   "file_extension": ".py",
   "mimetype": "text/x-python",
   "name": "python",
   "nbconvert_exporter": "python",
   "pygments_lexer": "ipython3",
   "version": "3.9.0-final"
  },
  "orig_nbformat": 2,
  "kernelspec": {
   "name": "python390jvsc74a57bd0f9f85f796d01129d0dd105a088854619f454435301f6ffec2fea96ecbd9be4ac",
   "display_name": "Python 3.9.0 64-bit"
  },
  "metadata": {
   "interpreter": {
    "hash": "f9f85f796d01129d0dd105a088854619f454435301f6ffec2fea96ecbd9be4ac"
   }
  }
 },
 "nbformat": 4,
 "nbformat_minor": 2,
 "cells": [
  {
   "cell_type": "code",
   "execution_count": 304,
   "metadata": {},
   "outputs": [],
   "source": [
    "def my_foo(type_str=\"int\", value=0):\n",
    "    '''hello world function'''\n",
    "    if (type_str == \"int\"):\n",
    "        return int(value)\n",
    "    elif (type_str == \"float\"):\n",
    "        return float(value)\n",
    "    elif (type_str == \"str\"):\n",
    "        return str(value)\n",
    "    else: return"
   ]
  },
  {
   "cell_type": "code",
   "execution_count": 305,
   "metadata": {},
   "outputs": [
    {
     "output_type": "stream",
     "name": "stdout",
     "text": [
      "<class 'float'> 5.0\n"
     ]
    }
   ],
   "source": [
    "my_var = my_foo(\"float\", 5)\n",
    "print(type(my_var), my_var)"
   ]
  },
  {
   "cell_type": "code",
   "execution_count": 306,
   "metadata": {},
   "outputs": [
    {
     "output_type": "stream",
     "name": "stdout",
     "text": [
      "<class 'str'> 2\n"
     ]
    }
   ],
   "source": [
    "my_var = my_foo(value=2, type_str=\"str\")\n",
    "print(type(my_var), my_var)"
   ]
  },
  {
   "cell_type": "code",
   "execution_count": 307,
   "metadata": {},
   "outputs": [
    {
     "output_type": "stream",
     "name": "stdout",
     "text": [
      "<class 'int'> 0\n"
     ]
    }
   ],
   "source": [
    "my_var = my_foo()\n",
    "print(type(my_var), my_var)"
   ]
  },
  {
   "cell_type": "code",
   "execution_count": 308,
   "metadata": {},
   "outputs": [],
   "source": [
    "def greeting(name, msg=\"\"):\n",
    "    '''Greet the person 'name', \n",
    "    and optionally print an additional message'''\n",
    "    print(f\"Hello {name}!\\n{msg}\", end=\"\")"
   ]
  },
  {
   "cell_type": "code",
   "execution_count": 309,
   "metadata": {},
   "outputs": [
    {
     "output_type": "stream",
     "name": "stdout",
     "text": [
      "Hello Coffee Lovers!\n"
     ]
    }
   ],
   "source": [
    "greeting(\"Coffee Lovers\")"
   ]
  },
  {
   "cell_type": "code",
   "execution_count": 310,
   "metadata": {},
   "outputs": [
    {
     "output_type": "stream",
     "name": "stdout",
     "text": [
      "Hello Coffee Lovers!\nAre you enjoying your favourite brew this fine morning?"
     ]
    }
   ],
   "source": [
    "greeting(\"Coffee Lovers\", \"Are you enjoying your favourite brew this fine morning?\")"
   ]
  },
  {
   "cell_type": "code",
   "execution_count": 311,
   "metadata": {},
   "outputs": [],
   "source": [
    "def quadratic(x, a=0, b=0, c=0):\n",
    "    return a*x**2 + b*x + c"
   ]
  },
  {
   "cell_type": "code",
   "execution_count": 312,
   "metadata": {},
   "outputs": [
    {
     "output_type": "stream",
     "name": "stdout",
     "text": [
      "4\n10\n7\n"
     ]
    }
   ],
   "source": [
    "print(quadratic(x=2, a=1))\n",
    "print(quadratic(a=2, c=2, x=2))\n",
    "print(quadratic(2, a=1, b=1, c=1))"
   ]
  },
  {
   "cell_type": "code",
   "execution_count": 313,
   "metadata": {},
   "outputs": [],
   "source": [
    "def avg(*numbers):\n",
    "    sum = 0\n",
    "    count = 0\n",
    "    for n in numbers:\n",
    "        sum += n\n",
    "        count += 1\n",
    "    return sum / count"
   ]
  },
  {
   "cell_type": "code",
   "execution_count": 314,
   "metadata": {},
   "outputs": [
    {
     "output_type": "execute_result",
     "data": {
      "text/plain": [
       "3.3333333333333335"
      ]
     },
     "metadata": {},
     "execution_count": 314
    }
   ],
   "source": [
    "avg(2,3,5)"
   ]
  },
  {
   "cell_type": "code",
   "execution_count": 315,
   "metadata": {},
   "outputs": [],
   "source": [
    "def min(*numbers):\n",
    "    if len(numbers) == 0:\n",
    "        return None\n",
    "    else:\n",
    "        curr_min = numbers[0]\n",
    "    for n in numbers:\n",
    "        if n < curr_min:\n",
    "            curr_min = n\n",
    "    return curr_min"
   ]
  },
  {
   "cell_type": "code",
   "execution_count": 316,
   "metadata": {},
   "outputs": [
    {
     "output_type": "execute_result",
     "data": {
      "text/plain": [
       "1"
      ]
     },
     "metadata": {},
     "execution_count": 316
    }
   ],
   "source": [
    "min(2,3,5,1,3.5,10)"
   ]
  },
  {
   "cell_type": "code",
   "execution_count": 317,
   "metadata": {},
   "outputs": [],
   "source": [
    "def mult_greeting(*names):\n",
    "    '''Greets all people in 'names' by listing them in a single sentence'''\n",
    "    print(\"Hello,\", end=\" \")\n",
    "    for name in range(0, len(names) - 1):\n",
    "        print(names[name] + \",\", end=\" \")\n",
    "    print(\"and\", names[len(names) -1] + \"!\")"
   ]
  },
  {
   "cell_type": "code",
   "execution_count": 318,
   "metadata": {},
   "outputs": [
    {
     "output_type": "stream",
     "name": "stdout",
     "text": [
      "Hello, Jane, Mark, and Lowe!\n"
     ]
    }
   ],
   "source": [
    "mult_greeting(\"Jane\", \"Mark\", \"Lowe\")"
   ]
  },
  {
   "cell_type": "code",
   "execution_count": 319,
   "metadata": {},
   "outputs": [],
   "source": [
    "def power(base, pow):\n",
    "    result = base\n",
    "    \n",
    "    while pow > 1:\n",
    "        result *= base\n",
    "        pow -= 1\n",
    "    \n",
    "    while pow < 1:\n",
    "        result /= base\n",
    "        pow += 1\n",
    "\n",
    "    return result"
   ]
  },
  {
   "cell_type": "code",
   "execution_count": 320,
   "metadata": {},
   "outputs": [
    {
     "output_type": "execute_result",
     "data": {
      "text/plain": [
       "0.015625"
      ]
     },
     "metadata": {},
     "execution_count": 320
    }
   ],
   "source": [
    "power(4, -3)"
   ]
  },
  {
   "cell_type": "code",
   "execution_count": 321,
   "metadata": {},
   "outputs": [
    {
     "output_type": "execute_result",
     "data": {
      "text/plain": [
       "'================================================================================'"
      ]
     },
     "metadata": {},
     "execution_count": 321
    }
   ],
   "source": [
    "'================================================================================'"
   ]
  },
  {
   "cell_type": "code",
   "execution_count": 322,
   "metadata": {},
   "outputs": [],
   "source": [
    "def my_bar(n, list1, list2):\n",
    "    n += 1\n",
    "    list1.append(3)\n",
    "    list2 = [4,5,6]\n",
    "    print(\"In my_bar\\t\", n, list1, list2)"
   ]
  },
  {
   "cell_type": "code",
   "execution_count": 323,
   "metadata": {},
   "outputs": [
    {
     "output_type": "stream",
     "name": "stdout",
     "text": [
      "In my_bar\t 1 [1, 2, 3] [4, 5, 6]\nAfter my_bar\t 0 [1, 2, 3] [4, 5]\n"
     ]
    }
   ],
   "source": [
    "x = 0\n",
    "y = [1, 2]\n",
    "z = [4, 5]\n",
    "my_bar(x, y, z)\n",
    "print(\"After my_bar\\t\", x, y, z)"
   ]
  },
  {
   "cell_type": "code",
   "execution_count": 324,
   "metadata": {},
   "outputs": [],
   "source": [
    "def local_x():\n",
    "    x = 5\n",
    "    print(\"x inside:\", x)\n",
    "    \n",
    "def glob_x():\n",
    "    global x\n",
    "    x = 3\n",
    "    print(\"x inside:\", x)"
   ]
  },
  {
   "cell_type": "code",
   "execution_count": 325,
   "metadata": {},
   "outputs": [
    {
     "output_type": "stream",
     "name": "stdout",
     "text": [
      "x inside: 5\n0\nx inside: 3\n3\n"
     ]
    }
   ],
   "source": [
    "x = 0\n",
    "local_x()\n",
    "print(x)\n",
    "glob_x()\n",
    "print(x)"
   ]
  },
  {
   "cell_type": "code",
   "execution_count": 326,
   "metadata": {},
   "outputs": [],
   "source": [
    "def glob_nums():\n",
    "    global a, b\n",
    "    a = 1\n",
    "    b = 2"
   ]
  },
  {
   "cell_type": "code",
   "execution_count": 327,
   "metadata": {},
   "outputs": [
    {
     "output_type": "stream",
     "name": "stdout",
     "text": [
      "one two\n1 2\n"
     ]
    }
   ],
   "source": [
    "a = \"one\" ; b = \"two\"\n",
    "print(a, b)\n",
    "glob_nums()\n",
    "print(a, b)"
   ]
  },
  {
   "cell_type": "code",
   "execution_count": 328,
   "metadata": {},
   "outputs": [
    {
     "output_type": "execute_result",
     "data": {
      "text/plain": [
       "'========================================================================================'"
      ]
     },
     "metadata": {},
     "execution_count": 328
    }
   ],
   "source": [
    "'========================================================================================'"
   ]
  },
  {
   "cell_type": "code",
   "execution_count": 329,
   "metadata": {},
   "outputs": [],
   "source": [
    "def print_power(base, pow):\n",
    "    def my_print(res, base=base, pow=pow):\n",
    "        print(f\"{base} to the power of {pow} is {res}\")\n",
    "    \n",
    "    result = power(base, pow)\n",
    "\n",
    "    if pow < 0:\n",
    "        my_print(result, pow=\"negative \" + str(abs(pow)))\n",
    "    else:\n",
    "        my_print(result)\n",
    "    # my_print(result, base=pow, pow=base) # wrong\n",
    "    return result"
   ]
  },
  {
   "cell_type": "code",
   "execution_count": 330,
   "metadata": {},
   "outputs": [
    {
     "output_type": "stream",
     "name": "stdout",
     "text": [
      "4 to the power of 3 is 64\n"
     ]
    },
    {
     "output_type": "execute_result",
     "data": {
      "text/plain": [
       "64"
      ]
     },
     "metadata": {},
     "execution_count": 330
    }
   ],
   "source": [
    "print_power(4, 3)"
   ]
  },
  {
   "cell_type": "code",
   "execution_count": 331,
   "metadata": {},
   "outputs": [],
   "source": [
    "def non_locality():\n",
    "    x = \"local\"\n",
    "\n",
    "    def inner():\n",
    "        nonlocal x\n",
    "        x = \"nonlocal\"\n",
    "        print(\"inner:\", x)\n",
    "    \n",
    "    inner()\n",
    "    print(\"outer:\", x)"
   ]
  },
  {
   "cell_type": "code",
   "execution_count": 332,
   "metadata": {},
   "outputs": [
    {
     "output_type": "stream",
     "name": "stdout",
     "text": [
      "inner: nonlocal\nouter: nonlocal\n"
     ]
    }
   ],
   "source": [
    "non_locality()"
   ]
  },
  {
   "cell_type": "code",
   "execution_count": 333,
   "metadata": {},
   "outputs": [
    {
     "output_type": "stream",
     "name": "stdout",
     "text": [
      "inner: nonlocal\nouter: nonlocal\n"
     ]
    }
   ],
   "source": [
    "func_var = non_locality\n",
    "func_var()"
   ]
  },
  {
   "cell_type": "code",
   "execution_count": 334,
   "metadata": {},
   "outputs": [
    {
     "output_type": "stream",
     "name": "stdout",
     "text": [
      "\tFunction local_x :\nx inside: 5\n\n\n\tFunction glob_x :\nx inside: 3\n\n\n\tFunction non_locality :\ninner: nonlocal\nouter: nonlocal\n\n\n"
     ]
    }
   ],
   "source": [
    "my_funcs = [local_x, glob_x, non_locality]\n",
    "for func_var in my_funcs:\n",
    "    print(f\"\\tFunction {func_var.__name__} :\")\n",
    "    func_var()\n",
    "    print(\"\\n\")"
   ]
  },
  {
   "cell_type": "code",
   "execution_count": 335,
   "metadata": {},
   "outputs": [
    {
     "output_type": "stream",
     "name": "stdout",
     "text": [
      "0.015625\n"
     ]
    }
   ],
   "source": [
    "lam_pow = lambda base, pow: base**pow\n",
    "\n",
    "print(lam_pow(4, -3))"
   ]
  },
  {
   "cell_type": "code",
   "execution_count": 336,
   "metadata": {},
   "outputs": [],
   "source": [
    "def create_logger(prefix):\n",
    "    return lambda msg: print(prefix, msg)"
   ]
  },
  {
   "cell_type": "code",
   "execution_count": 337,
   "metadata": {},
   "outputs": [],
   "source": [
    "log_error = create_logger(\"ERR:\")\n",
    "log_warning = create_logger(\"WARN:\")\n",
    "log_info = create_logger(\"INFO:\")"
   ]
  },
  {
   "cell_type": "code",
   "execution_count": 338,
   "metadata": {},
   "outputs": [
    {
     "output_type": "stream",
     "name": "stdout",
     "text": [
      "ERR: something's wrong!\nWARN: be careful!\nINFO: it's a nice day\n"
     ]
    }
   ],
   "source": [
    "log_error(\"something's wrong!\")\n",
    "log_warning(\"be careful!\")\n",
    "log_info(\"it's a nice day\")"
   ]
  },
  {
   "cell_type": "code",
   "execution_count": 339,
   "metadata": {},
   "outputs": [
    {
     "output_type": "stream",
     "name": "stdout",
     "text": [
      "['apple', 'orange', 'kiwi', 'asparagus', 'cucumber']\n"
     ]
    }
   ],
   "source": [
    "words = [\"apple\", \"orange\", \"kiwi\", \"asparagus\", \"cucumber\"]\n",
    "print(words)"
   ]
  },
  {
   "cell_type": "code",
   "execution_count": 340,
   "metadata": {},
   "outputs": [
    {
     "output_type": "stream",
     "name": "stdout",
     "text": [
      "['apple', 'asparagus']\n"
     ]
    }
   ],
   "source": [
    "\n",
    "a_words = list(filter(lambda word: (word[0] == 'a'), words))\n",
    "print(a_words)"
   ]
  },
  {
   "cell_type": "code",
   "execution_count": 341,
   "metadata": {},
   "outputs": [
    {
     "output_type": "stream",
     "name": "stdout",
     "text": [
      "['Apple', 'Orange', 'Kiwi', 'Asparagus', 'Cucumber']\n"
     ]
    }
   ],
   "source": [
    "capitalized = list(map(lambda word: (word[0].upper() + word[1:]), words))\n",
    "print(capitalized)"
   ]
  },
  {
   "cell_type": "code",
   "execution_count": null,
   "metadata": {},
   "outputs": [],
   "source": []
  }
 ]
}