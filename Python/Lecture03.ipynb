{
 "metadata": {
  "language_info": {
   "codemirror_mode": {
    "name": "ipython",
    "version": 3
   },
   "file_extension": ".py",
   "mimetype": "text/x-python",
   "name": "python",
   "nbconvert_exporter": "python",
   "pygments_lexer": "ipython3",
   "version": "3.8.6-final"
  },
  "orig_nbformat": 2,
  "kernelspec": {
   "name": "python3",
   "display_name": "Python 3.8.6 64-bit",
   "metadata": {
    "interpreter": {
     "hash": "31f2aee4e71d21fbe5cf8b01ff0e069b9275f58929596ceb00d14d90e3e16cd6"
    }
   }
  }
 },
 "nbformat": 4,
 "nbformat_minor": 2,
 "cells": [
  {
   "cell_type": "code",
   "execution_count": 1,
   "metadata": {},
   "outputs": [
    {
     "output_type": "stream",
     "name": "stdout",
     "text": [
      "This text is so long that I would like to type it into two lines.\n"
     ]
    }
   ],
   "source": [
    "huge_set = { 11000000, 12000000, 13000000,\n",
    "             14000000, 15000000, 16000000 }\n",
    "text = \"This text is so long that I would like \"\\\n",
    "       \"to type it into two lines.\"\n",
    "print(text)"
   ]
  },
  {
   "cell_type": "code",
   "execution_count": 2,
   "metadata": {},
   "outputs": [
    {
     "output_type": "error",
     "ename": "IndentationError",
     "evalue": "unexpected indent (<ipython-input-2-9f8857ac3a83>, line 3)",
     "traceback": [
      "\u001b[0;36m  File \u001b[0;32m\"<ipython-input-2-9f8857ac3a83>\"\u001b[0;36m, line \u001b[0;32m3\u001b[0m\n\u001b[0;31m    print(\"error?\")\u001b[0m\n\u001b[0m    ^\u001b[0m\n\u001b[0;31mIndentationError\u001b[0m\u001b[0;31m:\u001b[0m unexpected indent\n"
     ]
    }
   ],
   "source": [
    "if True:\n",
    "    print(\"true!\")\n",
    "     print(\"error?\")\n",
    "else:\n",
    "    print(\"false.\")"
   ]
  },
  {
   "cell_type": "code",
   "execution_count": 11,
   "metadata": {},
   "outputs": [
    {
     "output_type": "stream",
     "name": "stdout",
     "text": [
      "true!\nno error\n"
     ]
    }
   ],
   "source": [
    "if True:\n",
    "    print(\"true!\")\n",
    "    print(\"no error\")\n",
    "else:\n",
    "    print(\"false.\")"
   ]
  },
  {
   "cell_type": "code",
   "execution_count": 18,
   "metadata": {},
   "outputs": [
    {
     "output_type": "stream",
     "name": "stdout",
     "text": [
      "1 2 3 4\n1|2|3|4\n1 | 2 | 3 | 4 <\n"
     ]
    }
   ],
   "source": [
    "print(1, 2, 3, 4)\n",
    "print(1, 2, 3, 4, sep=\"|\")\n",
    "print(1, 2, 3, 4, sep=\" | \", end=\" <\\n\")"
   ]
  },
  {
   "cell_type": "code",
   "execution_count": 21,
   "metadata": {},
   "outputs": [
    {
     "output_type": "stream",
     "name": "stdout",
     "text": [
      "Hi! My name is Slim Shady\nWhat? chika-chika Who? chika-chika Slim Shady\n"
     ]
    }
   ],
   "source": [
    "name = \"Slim Shady\"\n",
    "scratch = \"chika-chika\"\n",
    "print(\"Hi! My name is {}\".format(name))\n",
    "print(\"What? {1} Who? {1} {0}\".format(name, scratch))"
   ]
  },
  {
   "cell_type": "code",
   "execution_count": null,
   "metadata": {},
   "outputs": [],
   "source": [
    "'''========================================================================================'''"
   ]
  },
  {
   "cell_type": "code",
   "execution_count": 2,
   "metadata": {},
   "outputs": [
    {
     "output_type": "stream",
     "name": "stdout",
     "text": [
      "the sum of 7 and 8 is 15\n"
     ]
    }
   ],
   "source": [
    "num1 = input('enter a number:\\t')\n",
    "num2 = input('and another one:\\t')\n",
    "sum = int(num1) + int(num2)\n",
    "print('the sum of {} and {} is {}'.format(num1, num2, sum))"
   ]
  },
  {
   "cell_type": "code",
   "execution_count": 9,
   "metadata": {},
   "outputs": [
    {
     "output_type": "stream",
     "name": "stdout",
     "text": [
      "A circle with radius 5 has a circumference of 31.41592653589793\n"
     ]
    }
   ],
   "source": [
    "import math\n",
    "radius = 5\n",
    "circumference = math.pi * 2 * radius\n",
    "print(\"A circle with radius {} has a circumference of {}\".format(radius, circumference))"
   ]
  },
  {
   "cell_type": "code",
   "execution_count": 10,
   "metadata": {},
   "outputs": [
    {
     "output_type": "stream",
     "name": "stdout",
     "text": [
      "31\n"
     ]
    }
   ],
   "source": [
    "from math import floor\n",
    "print(floor(circumference))"
   ]
  },
  {
   "cell_type": "code",
   "execution_count": null,
   "metadata": {},
   "outputs": [],
   "source": [
    "'''=========================================================================================='''"
   ]
  },
  {
   "cell_type": "code",
   "execution_count": 20,
   "metadata": {},
   "outputs": [
    {
     "output_type": "stream",
     "name": "stdout",
     "text": [
      "0 is a valid percentage number\n"
     ]
    }
   ],
   "source": [
    "cond_num = int(input())\n",
    "\n",
    "if cond_num < 0:\n",
    "    print(\"{} is a negative number\".format(cond_num))\n",
    "elif cond_num <= 100:\n",
    "    print(\"{} is a valid percentage number\".format(cond_num))\n",
    "else:\n",
    "    print(\"{} is more than 100\".format(cond_num))"
   ]
  },
  {
   "cell_type": "code",
   "execution_count": 41,
   "metadata": {},
   "outputs": [
    {
     "output_type": "stream",
     "name": "stdout",
     "text": [
      "1\n"
     ]
    }
   ],
   "source": [
    "cond_num = 1\n",
    "if cond_num == 1:\n",
    "    print(1)\n",
    "elif cond_num == 2:\n",
    "    print(2)\n",
    "elif cond_num == 3:\n",
    "    print(3)\n",
    "elif cond_num == 4:\n",
    "    print(4)\n",
    "else:\n",
    "    print(\"error\")"
   ]
  },
  {
   "cell_type": "code",
   "execution_count": 42,
   "metadata": {},
   "outputs": [
    {
     "output_type": "stream",
     "name": "stdout",
     "text": [
      "I like 1\n"
     ]
    }
   ],
   "source": [
    "if cond_num <= 0:\n",
    "    print(\"{} should be a positive number\".format(cond_num))\n",
    "\n",
    "    if cond_num == 0:\n",
    "        print(\"it is currently zero\")\n",
    "    else:\n",
    "        print(\"it is currently negative\")\n",
    "\n",
    "else:\n",
    "    print(\"I like {}\".format(cond_num))"
   ]
  },
  {
   "cell_type": "code",
   "execution_count": 5,
   "metadata": {
    "tags": []
   },
   "outputs": [
    {
     "output_type": "stream",
     "name": "stdout",
     "text": [
      "I don't like 50, let's skip it\nresult: 5000\n"
     ]
    }
   ],
   "source": [
    "max = 100\n",
    "counter = 1\n",
    "total = 0\n",
    "while counter <= max:\n",
    "    if counter < 0:\n",
    "        print(\"bad counter value\")\n",
    "        break\n",
    "    if counter == 50:\n",
    "        print(\"I don't like 50, let's skip it\")\n",
    "        counter += 1\n",
    "        continue\n",
    "    total += counter\n",
    "    counter += 1\n",
    "else:\n",
    "    print(\"result:\", total)"
   ]
  },
  {
   "cell_type": "code",
   "execution_count": 7,
   "metadata": {},
   "outputs": [
    {
     "output_type": "stream",
     "name": "stdout",
     "text": [
      "633\n"
     ]
    }
   ],
   "source": [
    "add_em_up = [100, 220, 313]\n",
    "total = 0\n",
    "for num in add_em_up:\n",
    "    total += num\n",
    "print(total)"
   ]
  },
  {
   "cell_type": "code",
   "execution_count": 12,
   "metadata": {},
   "outputs": [
    {
     "output_type": "stream",
     "name": "stdout",
     "text": [
      "We're 10% of the way there...\nWe're 30% of the way there...\nWe're 50% of the way there...\nWe're 70% of the way there...\nWe're 90% of the way there...\nDone!\n"
     ]
    }
   ],
   "source": [
    "for i in range(1, 10, 2):\n",
    "    print(\"We're {}0% of the way there...\".format(i))\n",
    "print(\"Done!\")"
   ]
  },
  {
   "cell_type": "code",
   "execution_count": 18,
   "metadata": {},
   "outputs": [
    {
     "output_type": "stream",
     "name": "stdout",
     "text": [
      "{0, 5, 10, 15, 20}\n"
     ]
    }
   ],
   "source": [
    "fives = set(range(0, 25, 5))\n",
    "print(fives)"
   ]
  },
  {
   "cell_type": "code",
   "execution_count": 21,
   "metadata": {},
   "outputs": [
    {
     "output_type": "stream",
     "name": "stdout",
     "text": [
      "C\no\nd\ne\n"
     ]
    }
   ],
   "source": [
    "for let in \"CodeAcademy\":\n",
    "    if let == 'A':\n",
    "        break\n",
    "    print(let)"
   ]
  },
  {
   "cell_type": "code",
   "execution_count": 22,
   "metadata": {},
   "outputs": [
    {
     "output_type": "stream",
     "name": "stdout",
     "text": [
      "e\ne\n"
     ]
    }
   ],
   "source": [
    "for let in \"CodeAcademy\":\n",
    "    if let != 'e':\n",
    "        continue\n",
    "    print(let)"
   ]
  },
  {
   "cell_type": "code",
   "execution_count": 34,
   "metadata": {},
   "outputs": [
    {
     "output_type": "stream",
     "name": "stdout",
     "text": [
      "start\n",
      "end\n"
     ]
    }
   ],
   "source": [
    "print(\"start\")\n",
    "for n in range(50000000):\n",
    "    pass\n",
    "print(\"end\")"
   ]
  },
  {
   "cell_type": "code",
   "execution_count": 38,
   "metadata": {},
   "outputs": [
    {
     "output_type": "stream",
     "name": "stdout",
     "text": [
      "0\n"
     ]
    }
   ],
   "source": [
    "var = 5\n",
    "while var:\n",
    "    var -= 1\n",
    "else:\n",
    "    print(var)"
   ]
  },
  {
   "cell_type": "code",
   "execution_count": null,
   "metadata": {},
   "outputs": [],
   "source": []
  }
 ]
}