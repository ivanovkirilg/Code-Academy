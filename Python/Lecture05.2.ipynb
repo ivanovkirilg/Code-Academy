{
 "metadata": {
  "language_info": {
   "codemirror_mode": {
    "name": "ipython",
    "version": 3
   },
   "file_extension": ".py",
   "mimetype": "text/x-python",
   "name": "python",
   "nbconvert_exporter": "python",
   "pygments_lexer": "ipython3",
   "version": "3.9.0-final"
  },
  "orig_nbformat": 2,
  "kernelspec": {
   "name": "python390jvsc74a57bd036cf16204b8548560b1c020c4e8fb5b57f0e4c58016f52f2d4be01e192833930",
   "display_name": "Python 3.9.0 64-bit"
  },
  "metadata": {
   "interpreter": {
    "hash": "36cf16204b8548560b1c020c4e8fb5b57f0e4c58016f52f2d4be01e192833930"
   }
  }
 },
 "nbformat": 4,
 "nbformat_minor": 2,
 "cells": [
  {
   "cell_type": "code",
   "execution_count": 96,
   "metadata": {},
   "outputs": [],
   "source": [
    "def count(start, max, step=1):\n",
    "    x = start\n",
    "    while x <= max:\n",
    "        print(\"generating\", x)\n",
    "        yield x\n",
    "        x += step"
   ]
  },
  {
   "cell_type": "code",
   "execution_count": 97,
   "metadata": {
    "tags": []
   },
   "outputs": [
    {
     "output_type": "stream",
     "name": "stdout",
     "text": [
      "generating 50\n50\ngenerating 60\n60\ngenerating 70\n70\ngenerating 80\n80\ngenerating 90\n90\ngenerating 100\n100\n"
     ]
    }
   ],
   "source": [
    "for num in count(50, 100, 10):\n",
    "    print(num)"
   ]
  },
  {
   "cell_type": "code",
   "execution_count": 98,
   "metadata": {},
   "outputs": [
    {
     "output_type": "stream",
     "name": "stdout",
     "text": [
      "generating 1\ngenerating 2\ngenerating 3\ngenerating 4\ngenerating 5\n"
     ]
    },
    {
     "output_type": "execute_result",
     "data": {
      "text/plain": [
       "False"
      ]
     },
     "metadata": {},
     "execution_count": 98
    }
   ],
   "source": [
    "nums = count(1, 5)\n",
    "7 in nums\n",
    "# print(nums.__next__())\n",
    "# print(nums.__next__())\n",
    "# print(nums.__next__())\n",
    "# print(next(nums))\n",
    "# print(next(nums))"
   ]
  },
  {
   "cell_type": "code",
   "execution_count": 99,
   "metadata": {},
   "outputs": [],
   "source": [
    "def task_gen(n):\n",
    "    x = 0\n",
    "    while x < n:\n",
    "        x += 1\n",
    "        yield x\n",
    "        \n",
    "    while x > 1:\n",
    "        x -= 1\n",
    "        yield x"
   ]
  },
  {
   "cell_type": "code",
   "execution_count": 100,
   "metadata": {},
   "outputs": [
    {
     "output_type": "stream",
     "name": "stdout",
     "text": [
      "1 2 3 4 5 6 7 8 9 10 9 8 7 6 5 4 3 2 1 "
     ]
    }
   ],
   "source": [
    "for n in task_gen(10):\n",
    "    print(n, end=\" \")"
   ]
  },
  {
   "cell_type": "code",
   "execution_count": 101,
   "metadata": {},
   "outputs": [],
   "source": [
    "def task_rangen(n):\n",
    "    for x in range(1, n):\n",
    "        yield x\n",
    "    for x in range(n, 0, -1):\n",
    "        yield x"
   ]
  },
  {
   "cell_type": "code",
   "execution_count": 102,
   "metadata": {},
   "outputs": [
    {
     "output_type": "stream",
     "name": "stdout",
     "text": [
      "1 2 3 4 5 6 7 8 9 10 9 8 7 6 5 4 3 2 1 "
     ]
    }
   ],
   "source": [
    "for n in task_rangen(10):\n",
    "    print(n, end=\" \")"
   ]
  },
  {
   "cell_type": "code",
   "execution_count": 103,
   "metadata": {},
   "outputs": [],
   "source": [
    "def task_rangen_from(n):\n",
    "    yield from range(1, n)\n",
    "    yield from range(n, 0, -1)"
   ]
  },
  {
   "cell_type": "code",
   "execution_count": 104,
   "metadata": {},
   "outputs": [
    {
     "output_type": "stream",
     "name": "stdout",
     "text": [
      "1 2 3 4 5 6 7 8 9 10 9 8 7 6 5 4 3 2 1 "
     ]
    }
   ],
   "source": [
    "for n in task_rangen_from(10):\n",
    "    print(n, end=\" \")"
   ]
  },
  {
   "cell_type": "code",
   "execution_count": 105,
   "metadata": {},
   "outputs": [
    {
     "output_type": "execute_result",
     "data": {
      "text/plain": [
       "'======================================================================='"
      ]
     },
     "metadata": {},
     "execution_count": 105
    }
   ],
   "source": [
    "'======================================================================='"
   ]
  },
  {
   "cell_type": "code",
   "execution_count": 106,
   "metadata": {},
   "outputs": [],
   "source": [
    "def fib_nums(n):\n",
    "    x, y = 0, 1\n",
    "    for _ in range(n):\n",
    "        x, y = y, x+y\n",
    "        yield x"
   ]
  },
  {
   "cell_type": "code",
   "execution_count": 107,
   "metadata": {},
   "outputs": [],
   "source": [
    "def square(nums):\n",
    "    for n in nums:\n",
    "        yield n*n"
   ]
  },
  {
   "cell_type": "code",
   "execution_count": 108,
   "metadata": {},
   "outputs": [],
   "source": [
    "def sum(nums):\n",
    "    result = 0\n",
    "    for n in nums:\n",
    "        result += n\n",
    "    return result"
   ]
  },
  {
   "cell_type": "code",
   "execution_count": 109,
   "metadata": {},
   "outputs": [
    {
     "output_type": "stream",
     "name": "stdout",
     "text": [
      "273\n"
     ]
    }
   ],
   "source": [
    "print(sum(square(fib_nums(7))))"
   ]
  },
  {
   "cell_type": "code",
   "execution_count": 110,
   "metadata": {},
   "outputs": [],
   "source": [
    "def odd_num():\n",
    "    n = 1\n",
    "    while True:\n",
    "        yield n\n",
    "        n += 2"
   ]
  },
  {
   "cell_type": "code",
   "execution_count": 111,
   "metadata": {},
   "outputs": [
    {
     "output_type": "stream",
     "name": "stdout",
     "text": [
      "odd 1\todd 3\todd 5\todd 7\todd 9\todd 11\todd 13\todd 15\todd 17\todd 19\todd 21\todd 23\todd 25\todd 27\todd 29\t"
     ]
    }
   ],
   "source": [
    "my_odd_nums = odd_num()\n",
    "for i in range(15):\n",
    "    print('odd', next(my_odd_nums), end=\"\\t\")"
   ]
  },
  {
   "cell_type": "code",
   "execution_count": 112,
   "metadata": {},
   "outputs": [],
   "source": [
    "def factorial(x):\n",
    "    return 1 if x==1 else x * factorial(x - 1)"
   ]
  },
  {
   "cell_type": "code",
   "execution_count": 113,
   "metadata": {},
   "outputs": [
    {
     "output_type": "execute_result",
     "data": {
      "text/plain": [
       "30414093201713378043612608166064768844377641568960512000000000000"
      ]
     },
     "metadata": {},
     "execution_count": 113
    }
   ],
   "source": [
    "factorial(50)\n",
    "# factorial(2959)"
   ]
  },
  {
   "cell_type": "code",
   "execution_count": 114,
   "metadata": {},
   "outputs": [],
   "source": [
    "def iter_factorial(x):\n",
    "    result = 1\n",
    "    while x > 1:\n",
    "        result *= x\n",
    "        x -= 1\n",
    "    return result"
   ]
  },
  {
   "cell_type": "code",
   "execution_count": 115,
   "metadata": {},
   "outputs": [
    {
     "output_type": "execute_result",
     "data": {
      "text/plain": [
       "30414093201713378043612608166064768844377641568960512000000000000"
      ]
     },
     "metadata": {},
     "execution_count": 115
    }
   ],
   "source": [
    "iter_factorial(50)"
   ]
  },
  {
   "cell_type": "code",
   "execution_count": 116,
   "metadata": {},
   "outputs": [
    {
     "output_type": "execute_result",
     "data": {
      "text/plain": [
       "'=============================================================================='"
      ]
     },
     "metadata": {},
     "execution_count": 116
    }
   ],
   "source": [
    "'=============================================================================='"
   ]
  },
  {
   "cell_type": "code",
   "execution_count": 117,
   "metadata": {},
   "outputs": [],
   "source": [
    "# def func1(n):\n",
    "#     result = dict()\n",
    "#     for i in range(1, n + 1):\n",
    "#         result[i] = i**i\n",
    "#     return result"
   ]
  },
  {
   "cell_type": "code",
   "execution_count": 118,
   "metadata": {},
   "outputs": [],
   "source": [
    "# func1(5)"
   ]
  },
  {
   "cell_type": "code",
   "execution_count": 122,
   "metadata": {},
   "outputs": [],
   "source": [
    "def power_self():\n",
    "    n = 1\n",
    "    while True:\n",
    "        yield n**n\n",
    "        n += 1"
   ]
  },
  {
   "cell_type": "code",
   "execution_count": 123,
   "metadata": {},
   "outputs": [],
   "source": [
    "def func1(n):\n",
    "    powers = power_self()\n",
    "    result = dict()\n",
    "    for i in range(1, n+1):\n",
    "        result[i] = powers.__next__()\n",
    "    return result"
   ]
  },
  {
   "cell_type": "code",
   "execution_count": 124,
   "metadata": {},
   "outputs": [
    {
     "output_type": "stream",
     "name": "stdout",
     "text": [
      "{1: 1, 2: 4, 3: 27, 4: 256, 5: 3125}\n"
     ]
    }
   ],
   "source": [
    "print(func1(5))"
   ]
  },
  {
   "cell_type": "code",
   "execution_count": 153,
   "metadata": {},
   "outputs": [],
   "source": [
    "def func2(inp_list):\n",
    "    odd_list, even_list = [], []\n",
    "    for n in inp_list:\n",
    "        if n % 2:\n",
    "            odd_list.append(n * 10)\n",
    "        else:\n",
    "            even_list.append(n**2)\n",
    "    return odd_list, even_list"
   ]
  },
  {
   "cell_type": "code",
   "execution_count": 154,
   "metadata": {},
   "outputs": [
    {
     "output_type": "stream",
     "name": "stdout",
     "text": [
      "List2: [4, 16, 36, 64]\nList3: [10, 30, 50, 70, 90]\n"
     ]
    }
   ],
   "source": [
    "list1 = [1, 2, 3, 4, 5, 6, 7, 8, 9]\n",
    "list3, list2 = func2(list1)\n",
    "print(\"List2:\", list2)\n",
    "print(\"List3:\", list3)"
   ]
  },
  {
   "cell_type": "code",
   "execution_count": null,
   "metadata": {},
   "outputs": [],
   "source": [
    "'=============================================================================='"
   ]
  },
  {
   "cell_type": "code",
   "execution_count": 192,
   "metadata": {},
   "outputs": [],
   "source": [
    "def pyramid(n):\n",
    "    for n in range(n + 1):\n",
    "        # for n in range(n):\n",
    "        #     print(\"#\", end=\" \")\n",
    "        print(\"# \" * n)\n",
    "        \n",
    "    for n in range(n - 1, 0, -1):\n",
    "        # for n in range(n):\n",
    "        #     print(\"#\", end=\" \")\n",
    "        print(\"# \" * n)"
   ]
  },
  {
   "cell_type": "code",
   "execution_count": 193,
   "metadata": {},
   "outputs": [
    {
     "output_type": "stream",
     "name": "stdout",
     "text": [
      "\n# \n# # \n# # # \n# # # # \n# # # # # \n# # # # # # \n# # # # # # # \n# # # # # # \n# # # # # \n# # # # \n# # # \n# # \n# \n"
     ]
    }
   ],
   "source": [
    "pyramid(7)"
   ]
  },
  {
   "cell_type": "code",
   "execution_count": 200,
   "metadata": {},
   "outputs": [],
   "source": [
    "def count_odd_even(nums):\n",
    "    odd, even = 0, 0\n",
    "    for n in nums:\n",
    "        if n % 2:\n",
    "            odd += 1\n",
    "        else:\n",
    "            even += 1\n",
    "    return odd, even"
   ]
  },
  {
   "cell_type": "code",
   "execution_count": 203,
   "metadata": {},
   "outputs": [
    {
     "output_type": "stream",
     "name": "stdout",
     "text": [
      "(8, 3)\n"
     ]
    }
   ],
   "source": [
    "numbers = (11, 122, 17, 155, 12, 67, 71, 89, 911, 101, 102)\n",
    "print(count_odd_even(numbers))"
   ]
  },
  {
   "cell_type": "code",
   "execution_count": null,
   "metadata": {},
   "outputs": [],
   "source": []
  }
 ]
}