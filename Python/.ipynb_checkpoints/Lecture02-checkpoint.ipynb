{
 "metadata": {
  "language_info": {
   "codemirror_mode": {
    "name": "ipython",
    "version": 3
   },
   "file_extension": ".py",
   "mimetype": "text/x-python",
   "name": "python",
   "nbconvert_exporter": "python",
   "pygments_lexer": "ipython3",
   "version": "3.8.6-final"
  },
  "orig_nbformat": 2,
  "kernelspec": {
   "name": "python3",
   "display_name": "Python 3",
   "language": "python"
  }
 },
 "nbformat": 4,
 "nbformat_minor": 2,
 "cells": [
  {
   "cell_type": "code",
   "execution_count": 1,
   "metadata": {},
   "outputs": [],
   "source": [
    "list_obj = [0, 1, \"Two\", {\"Three\":3}, \"Four\", None]\n",
    "new_number = 5\n",
    "new_obj = {'Six':6}\n",
    "list_obj.append(new_number)\n",
    "list_obj.append(new_obj)"
   ]
  },
  {
   "cell_type": "code",
   "execution_count": 2,
   "metadata": {},
   "outputs": [
    {
     "output_type": "stream",
     "name": "stdout",
     "text": [
      "[1, 'Two', {'Three': 3}, 'Four', None, 5, {'Six': 6}]\n"
     ]
    }
   ],
   "source": [
    "print(list_obj)"
   ]
  },
  {
   "cell_type": "code",
   "execution_count": 4,
   "metadata": {},
   "outputs": [
    {
     "output_type": "stream",
     "name": "stdout",
     "text": [
      "{'Three': 3}\n{'Six': 6}\n"
     ]
    }
   ],
   "source": [
    "print(list_obj[2])\n",
    "print(list_obj[6])"
   ]
  },
  {
   "cell_type": "code",
   "execution_count": 5,
   "metadata": {},
   "outputs": [
    {
     "output_type": "stream",
     "name": "stdout",
     "text": [
      "Индексът на първата не-нулева стойност е:  0\n"
     ]
    }
   ],
   "source": [
    "print(\"Индексът на първата не-нулева стойност е: \", list_obj.index(True))"
   ]
  },
  {
   "cell_type": "code",
   "execution_count": null,
   "metadata": {},
   "outputs": [],
   "source": []
  }
 ]
}