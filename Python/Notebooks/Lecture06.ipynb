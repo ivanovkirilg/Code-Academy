{
 "metadata": {
  "orig_nbformat": 2,
  "kernelspec": {
   "name": "python3",
   "display_name": "Python 3",
   "language": "python"
  }
 },
 "nbformat": 4,
 "nbformat_minor": 2,
 "cells": [
  {
   "cell_type": "code",
   "execution_count": 189,
   "metadata": {},
   "outputs": [],
   "source": [
    "# def multiply(a, b):\n",
    "#     return a * b"
   ]
  },
  {
   "cell_type": "code",
   "execution_count": 190,
   "metadata": {},
   "outputs": [],
   "source": [
    "def document(func):\n",
    "    def function(*params):\n",
    "        print('Function name:', func.__name__)\n",
    "        print('Arguments:', params)\n",
    "\n",
    "        result = func(*params)\n",
    "        print('Result:', result)\n",
    "        return result\n",
    "        \n",
    "    return function"
   ]
  },
  {
   "cell_type": "code",
   "execution_count": 191,
   "metadata": {},
   "outputs": [],
   "source": [
    "def squared(func):\n",
    "    def new_function(*params):\n",
    "        result = func(*params) ** 2\n",
    "        print('The square of the result is:', result)\n",
    "        return result\n",
    "    \n",
    "    return new_function"
   ]
  },
  {
   "cell_type": "code",
   "execution_count": 192,
   "metadata": {},
   "outputs": [],
   "source": [
    "# doc_multiply = document(multiply)\n",
    "# doc_multiply(4, 7)"
   ]
  },
  {
   "cell_type": "code",
   "execution_count": 193,
   "metadata": {},
   "outputs": [],
   "source": [
    "# @document\n",
    "# @squared\n",
    "# def multiply(a, b):\n",
    "#     return a * b"
   ]
  },
  {
   "cell_type": "code",
   "execution_count": 194,
   "metadata": {},
   "outputs": [],
   "source": [
    "# multiply(7, 6)"
   ]
  },
  {
   "cell_type": "code",
   "execution_count": 195,
   "metadata": {},
   "outputs": [],
   "source": [
    "@squared\n",
    "@document\n",
    "def multiply(a, b):\n",
    "    return a * b"
   ]
  },
  {
   "cell_type": "code",
   "execution_count": 196,
   "metadata": {},
   "outputs": [],
   "source": [
    "@squared\n",
    "@document\n",
    "def add(a, b):\n",
    "    return a + b"
   ]
  },
  {
   "cell_type": "code",
   "execution_count": 197,
   "metadata": {},
   "outputs": [],
   "source": [
    "@squared\n",
    "def square(a):\n",
    "    return a"
   ]
  },
  {
   "cell_type": "code",
   "execution_count": 198,
   "metadata": {},
   "outputs": [],
   "source": [
    "@document\n",
    "def abs_min(a, b):\n",
    "    a = a if a >= 0 else -a\n",
    "    b = b if b >= 0 else -b\n",
    "    return a if a < b else b"
   ]
  },
  {
   "cell_type": "code",
   "execution_count": 199,
   "metadata": {},
   "outputs": [],
   "source": [
    "@document\n",
    "def greet(a):\n",
    "    return \"Hello, \" + a + '!'"
   ]
  },
  {
   "cell_type": "code",
   "execution_count": 200,
   "metadata": {},
   "outputs": [
    {
     "output_type": "stream",
     "name": "stdout",
     "text": [
      "Function name: multiply\nArguments: (7, 6)\nResult: 42\nThe square of the result is: 1764\nFunction name: add\nArguments: (4, 5)\nResult: 9\nThe square of the result is: 81\nThe square of the result is: 25\nFunction name: abs_min\nArguments: (-2, 6)\nResult: 2\nFunction name: abs_min\nArguments: (-6, 2)\nResult: 2\nFunction name: greet\nArguments: ('Jack',)\nResult: Hello, Jack!\n"
     ]
    },
    {
     "output_type": "execute_result",
     "data": {
      "text/plain": [
       "'Hello, Jack!'"
      ]
     },
     "metadata": {},
     "execution_count": 200
    }
   ],
   "source": [
    "multiply(7, 6)\n",
    "add(4, 5)\n",
    "square(5)\n",
    "abs_min(-2, 6)\n",
    "abs_min(-6, 2)\n",
    "greet('Jack')"
   ]
  },
  {
   "cell_type": "code",
   "execution_count": 201,
   "metadata": {},
   "outputs": [],
   "source": [
    "def arithm_ops(func):\n",
    "    def decorator(a, b):\n",
    "        print(f'{a} - {b} = {a - b}')\n",
    "        print(f'{a} * {b} = {a * b}')\n",
    "        print(f'{a} ^ {b} = {a**b}')\n",
    "        print(f'{a} / {b} = {a / b if b != 0 else \"undefined\"}')\n",
    "        \n",
    "        return func(a, b)\n",
    "    \n",
    "    return decorator"
   ]
  },
  {
   "cell_type": "code",
   "execution_count": 202,
   "metadata": {},
   "outputs": [],
   "source": [
    "@arithm_ops\n",
    "def sum(a, b):\n",
    "    print(f'{a} + {b} = {a + b}')\n",
    "    return a + b"
   ]
  },
  {
   "cell_type": "code",
   "execution_count": 203,
   "metadata": {},
   "outputs": [
    {
     "output_type": "stream",
     "name": "stdout",
     "text": [
      "3 - 4.5 = -1.5\n3 * 4.5 = 13.5\n3 ^ 4.5 = 140.29611541307906\n3 / 4.5 = 0.6666666666666666\n3 + 4.5 = 7.5\n3 - 0 = 3\n3 * 0 = 0\n3 ^ 0 = 1\n3 / 0 = undefined\n3 + 0 = 3\n"
     ]
    },
    {
     "output_type": "execute_result",
     "data": {
      "text/plain": [
       "3"
      ]
     },
     "metadata": {},
     "execution_count": 203
    }
   ],
   "source": [
    "sum(3, 4.5)\n",
    "sum(3, 0)\n"
   ]
  },
  {
   "cell_type": "code",
   "execution_count": 204,
   "metadata": {},
   "outputs": [],
   "source": [
    "from datetime import datetime\n",
    "def measure(func):\n",
    "    def decorator(*params):\n",
    "        start = datetime.now()\n",
    "        result = func(*params)\n",
    "        elapsed = datetime.now() - start\n",
    "        \n",
    "        print(func.__name__, 'took', elapsed, 'to run')\n",
    "        return result\n",
    "        \n",
    "    return decorator"
   ]
  },
  {
   "cell_type": "code",
   "execution_count": 205,
   "metadata": {},
   "outputs": [],
   "source": [
    "@measure\n",
    "def factorial(x):\n",
    "    result = 1\n",
    "    while x > 1:\n",
    "        result *= x\n",
    "        x -= 1\n",
    "    return result"
   ]
  },
  {
   "cell_type": "code",
   "execution_count": 206,
   "metadata": {},
   "outputs": [
    {
     "output_type": "stream",
     "name": "stdout",
     "text": [
      "factorial took 0:00:00.000011 to run\n"
     ]
    },
    {
     "output_type": "execute_result",
     "data": {
      "text/plain": [
       "1307674368000"
      ]
     },
     "metadata": {},
     "execution_count": 206
    }
   ],
   "source": [
    "factorial(15)"
   ]
  },
  {
   "cell_type": "code",
   "execution_count": 207,
   "metadata": {},
   "outputs": [],
   "source": [
    "@measure\n",
    "def test(arg):\n",
    "    print(f\"Testing a formatted print with {arg} arg\")"
   ]
  },
  {
   "cell_type": "code",
   "execution_count": 208,
   "metadata": {},
   "outputs": [
    {
     "output_type": "stream",
     "name": "stdout",
     "text": [
      "Testing a formatted print with test arg\ntest took 0:00:00.000266 to run\n"
     ]
    }
   ],
   "source": [
    "test('test')"
   ]
  },
  {
   "cell_type": "code",
   "execution_count": null,
   "metadata": {},
   "outputs": [],
   "source": []
  }
 ]
}