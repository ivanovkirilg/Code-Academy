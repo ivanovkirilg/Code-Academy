{
 "metadata": {
  "orig_nbformat": 2,
  "kernelspec": {
   "name": "python3",
   "display_name": "Python 3",
   "language": "python"
  }
 },
 "nbformat": 4,
 "nbformat_minor": 2,
 "cells": [
  {
   "source": [
    "def failsafe(func):\n",
    "    \"\"\"\\\n",
    "    Decorator (wrapper):\\tDon't crash the program\\\n",
    "    if an exception is thrown while executing this function.\\\n",
    "    \"\"\"\n",
    "    def decorated(*args, **kwargs):\n",
    "        try:\n",
    "            result = func(*args, **kwargs)\n",
    "        except:\n",
    "            print(f\"function '{func.__name__}' failed\",\n",
    "                f\"with args {args}\" if args else '',\n",
    "                f\"keyword args {kwargs}\" if kwargs else '')\n",
    "            return None\n",
    "        return result\n",
    "    \n",
    "    return decorated"
   ],
   "cell_type": "code",
   "metadata": {},
   "execution_count": 143,
   "outputs": []
  },
  {
   "cell_type": "code",
   "execution_count": 144,
   "metadata": {},
   "outputs": [],
   "source": [
    "@failsafe\n",
    "def add(a, b):\n",
    "    return a + b"
   ]
  },
  {
   "cell_type": "code",
   "execution_count": 145,
   "metadata": {},
   "outputs": [
    {
     "output_type": "stream",
     "name": "stdout",
     "text": [
      "int + int: 3\nstr + str: ab\nfunction 'add' failed with args (1, 'b') \nint + str: None\n"
     ]
    }
   ],
   "source": [
    "print(f\"int + int: { add(1, 2) }\")\n",
    "print(f\"str + str: { add('a', 'b') }\")\n",
    "print(f\"int + str: { add(1, 'b') }\")"
   ]
  },
  {
   "cell_type": "code",
   "execution_count": null,
   "metadata": {},
   "outputs": [],
   "source": []
  }
 ]
}