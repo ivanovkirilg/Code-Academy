{
 "metadata": {
  "orig_nbformat": 2,
  "kernelspec": {
   "name": "python3",
   "display_name": "Python 3",
   "language": "python"
  }
 },
 "nbformat": 4,
 "nbformat_minor": 2,
 "cells": [
  {
   "cell_type": "code",
   "execution_count": 63,
   "metadata": {},
   "outputs": [
    {
     "output_type": "stream",
     "name": "stdout",
     "text": [
      "found a positive at 0\nfound a negative at 1\nfound a positive at 2\nfound a zero at 3\nfound a negative at 4\nfound a positive at 5\nfound a negative at 6\n"
     ]
    }
   ],
   "source": [
    "x = [1, -2, 3, 0, -4, 5, -6]\n",
    "for i, n in enumerate(x):\n",
    "    if n > 0:\n",
    "        print(\"found a positive at\", i)\n",
    "    elif n == 0:\n",
    "        print(\"found a zero at\", i)\n",
    "    else:\n",
    "        print(\"found a negative at\", i)"
   ]
  },
  {
   "cell_type": "code",
   "execution_count": 64,
   "metadata": {},
   "outputs": [
    {
     "output_type": "execute_result",
     "data": {
      "text/plain": [
       "'==========================================================='"
      ]
     },
     "metadata": {},
     "execution_count": 64
    }
   ],
   "source": [
    "'==========================================================='"
   ]
  },
  {
   "cell_type": "code",
   "execution_count": 65,
   "metadata": {},
   "outputs": [
    {
     "output_type": "stream",
     "name": "stdout",
     "text": [
      "[1, 4, 9, 0, 16, 25, 36]\n"
     ]
    }
   ],
   "source": [
    "x_sq = []\n",
    "for n in x:\n",
    "    x_sq.append(n**2)\n",
    "print(x_sq)"
   ]
  },
  {
   "cell_type": "code",
   "execution_count": 66,
   "metadata": {},
   "outputs": [
    {
     "output_type": "stream",
     "name": "stdout",
     "text": [
      "[1, -8, 27, 0, -64, 125, -216]\n[1, 27, 125]\n[-8, -64, -216]\n"
     ]
    }
   ],
   "source": [
    "x_cb = [n**3 for n in x]\n",
    "print(x_cb)\n",
    "x_pos_cb = [n**3 for n in x if n > 0]\n",
    "x_neg_cb = [n**3 for n in x if n < 0]\n",
    "print(x_pos_cb)\n",
    "print(x_neg_cb)"
   ]
  },
  {
   "cell_type": "code",
   "execution_count": 67,
   "metadata": {},
   "outputs": [
    {
     "output_type": "stream",
     "name": "stdout",
     "text": [
      "h! e! l! l! o! "
     ]
    }
   ],
   "source": [
    "word = \"hello\"\n",
    "for spelling in [letter + '!' for letter in word]:\n",
    "    print(spelling, end=\" \")"
   ]
  },
  {
   "cell_type": "code",
   "execution_count": 68,
   "metadata": {},
   "outputs": [
    {
     "output_type": "stream",
     "name": "stdout",
     "text": [
      "[1, 4, 9, 16, 25, 36, 49]\n"
     ]
    }
   ],
   "source": [
    "list1 = [1, 2, 3, 4, 5, 6, 7]\n",
    "result = []\n",
    "for i in list1:\n",
    "    result.append(i*i)\n",
    "print(result)"
   ]
  },
  {
   "cell_type": "code",
   "execution_count": 69,
   "metadata": {},
   "outputs": [
    {
     "output_type": "stream",
     "name": "stdout",
     "text": [
      "[1, 4, 9, 16, 25, 36, 49]\n"
     ]
    }
   ],
   "source": [
    "result = [i*i for i in [1,2,3,4,5,6,7]]\n",
    "print(result)"
   ]
  },
  {
   "cell_type": "code",
   "execution_count": 70,
   "metadata": {},
   "outputs": [
    {
     "output_type": "stream",
     "name": "stdout",
     "text": [
      "[4, 16, 36]\n"
     ]
    }
   ],
   "source": [
    "list1 = [1, 2, 3, 4, 5, 6, 7]\n",
    "result = []\n",
    "for i in list1:\n",
    "    if i%2 == 0:\n",
    "        result.append(i*i)\n",
    "print(result)"
   ]
  },
  {
   "cell_type": "code",
   "execution_count": 71,
   "metadata": {},
   "outputs": [
    {
     "output_type": "stream",
     "name": "stdout",
     "text": [
      "[4, 16, 36]\n"
     ]
    }
   ],
   "source": [
    "result = [i*i for i in [1,2,3,4,5,6,7] if i%2 == 0]\n",
    "print(result)"
   ]
  },
  {
   "cell_type": "code",
   "execution_count": 72,
   "metadata": {},
   "outputs": [
    {
     "output_type": "stream",
     "name": "stdout",
     "text": [
      "[1, 4, 27, 16, 125, 36, 343]\n"
     ]
    }
   ],
   "source": [
    "list1 = [1, 2, 3, 4, 5, 6, 7]\n",
    "result = []\n",
    "for i in list1:\n",
    "    if i%2 == 0:\n",
    "        result.append(i**2)\n",
    "    else:\n",
    "        result.append(i**3)\n",
    "print(result)"
   ]
  },
  {
   "cell_type": "code",
   "execution_count": 73,
   "metadata": {},
   "outputs": [
    {
     "output_type": "stream",
     "name": "stdout",
     "text": [
      "[1, 4, 27, 16, 125, 36, 343]\n"
     ]
    }
   ],
   "source": [
    "result = [i**2 if not i%2 else i**3 for i in [1,2,3,4,5,6,7]]\n",
    "print(result)"
   ]
  },
  {
   "cell_type": "code",
   "execution_count": 74,
   "metadata": {},
   "outputs": [
    {
     "output_type": "stream",
     "name": "stdout",
     "text": [
      "[2, 4, 6, 8, 10, 12, 14, 16]\n"
     ]
    }
   ],
   "source": [
    "list1 = [ [1,2,3,4], [5,6,7,8], [9,10,11,12], [13,14,15,16] ]\n",
    "result = []\n",
    "for row in list1:\n",
    "    for i in row: \n",
    "        if i%2 == 0:\n",
    "            result.append(i)\n",
    "print(result)"
   ]
  },
  {
   "cell_type": "code",
   "execution_count": 75,
   "metadata": {},
   "outputs": [
    {
     "output_type": "stream",
     "name": "stdout",
     "text": [
      "[2, 4, 6, 8, 10, 12, 14, 16]\n"
     ]
    }
   ],
   "source": [
    "result = [i for row in list1 for i in row if not i%2]\n",
    "print(result)"
   ]
  },
  {
   "cell_type": "code",
   "execution_count": 76,
   "metadata": {},
   "outputs": [
    {
     "output_type": "stream",
     "name": "stdout",
     "text": [
      "[(6, 2), (4, 8), (6, 2), (1, 3), (2, 7), (2, 7)]\n"
     ]
    }
   ],
   "source": [
    "list1 = [9, 3, 6, 1, 5, 0, 8, 2, 4, 7]\n",
    "list2 = [6, 4, 6, 1, 2, 2]\n",
    "result = []\n",
    "for i in list2:\n",
    "    result.append( (i, list1.index(i)) )\n",
    "print(result)"
   ]
  },
  {
   "cell_type": "code",
   "execution_count": 77,
   "metadata": {},
   "outputs": [
    {
     "output_type": "stream",
     "name": "stdout",
     "text": [
      "[(6, 2), (4, 8), (6, 2), (1, 3), (2, 7), (2, 7)]\n"
     ]
    }
   ],
   "source": [
    "result = [(i, list1.index(i)) for i in list2]\n",
    "print(result)"
   ]
  },
  {
   "cell_type": "code",
   "execution_count": 78,
   "metadata": {},
   "outputs": [
    {
     "output_type": "execute_result",
     "data": {
      "text/plain": [
       "'==========================================================='"
      ]
     },
     "metadata": {},
     "execution_count": 78
    }
   ],
   "source": [
    "'==========================================================='"
   ]
  },
  {
   "cell_type": "code",
   "execution_count": 79,
   "metadata": {},
   "outputs": [
    {
     "output_type": "stream",
     "name": "stdout",
     "text": [
      "{1, 2, 3, 4, 5, 6, 7}\n"
     ]
    }
   ],
   "source": [
    "input_list = [1, 2, 3, 4, 4, 5, 6, 6, 6, 7, 7]\n",
    "output_set = {n for n in input_list}\n",
    "print(output_set)"
   ]
  },
  {
   "cell_type": "code",
   "execution_count": 80,
   "metadata": {},
   "outputs": [
    {
     "output_type": "stream",
     "name": "stdout",
     "text": [
      "{1, 4, 36, 9, 16, 49, 25}\n"
     ]
    }
   ],
   "source": [
    "output_set = {n*n for n in input_list}\n",
    "print(output_set)"
   ]
  },
  {
   "cell_type": "code",
   "execution_count": 81,
   "metadata": {},
   "outputs": [
    {
     "output_type": "stream",
     "name": "stdout",
     "text": [
      "{0: 1, 1: 2, 2: 3, 3: 4}\n{0: 1, 1: 4, 2: 9, 3: 16}\n"
     ]
    }
   ],
   "source": [
    "my_dict = { 0: 1, 1: 2, 2: 3, 3: 4 }\n",
    "sq_dict = { i:j**2 for (i,j) in my_dict.items() }\n",
    "print(my_dict)\n",
    "print(sq_dict)"
   ]
  },
  {
   "cell_type": "code",
   "execution_count": 82,
   "metadata": {},
   "outputs": [
    {
     "output_type": "execute_result",
     "data": {
      "text/plain": [
       "'==========================================================='"
      ]
     },
     "metadata": {},
     "execution_count": 82
    }
   ],
   "source": [
    "'==========================================================='"
   ]
  },
  {
   "cell_type": "code",
   "execution_count": 83,
   "metadata": {},
   "outputs": [
    {
     "output_type": "stream",
     "name": "stdout",
     "text": [
      "17\t3\t5\t45\t97\t19\t39\t43\t121\t23\t"
     ]
    }
   ],
   "source": [
    "# TASK 1\n",
    "list_1 = [17, 3, 5, 45, 97, 32, 22, 10, 19, 39, 43, 121, 23, 66]\n",
    "for n in list_1:\n",
    "    if n % 2:\n",
    "        print(n, end=\"\\t\")"
   ]
  },
  {
   "cell_type": "code",
   "execution_count": 99,
   "metadata": {},
   "outputs": [
    {
     "output_type": "stream",
     "name": "stdout",
     "text": [
      "[5005, 5016, 5027, 5038, 5049, 5060, 5071, 5082, 5093, 5104, 5115, 5126, 5137, 5148, 5159, 5170, 5181, 5192, 5203, 5214, 5225, 5236, 5247, 5258, 5269, 5280, 5291, 5302, 5313, 5324, 5335, 5346, 5357, 5368, 5379, 5390, 5401, 5412, 5423, 5434, 5445, 5456, 5467, 5478, 5489, 5500, 5511, 5522, 5533, 5544, 5555, 5566, 5577, 5588, 5599, 5610, 5621, 5632, 5643, 5654, 5665, 5676, 5687, 5698, 5709, 5720, 5731, 5742, 5753, 5764, 5775, 5786, 5797, 5808, 5819, 5830, 5841, 5852, 5863, 5874, 5885, 5896, 5907, 5918, 5929, 5940, 5951, 5962, 5973, 5984, 5995, 6006, 6017, 6028, 6039, 6050, 6061, 6072, 6083, 6094, 6105, 6116, 6127, 6138, 6149, 6160, 6171, 6182, 6193, 6204, 6215, 6226, 6237, 6248, 6259, 6270, 6281, 6292, 6303, 6314, 6325, 6336, 6347, 6358, 6369, 6380, 6391, 6402, 6413, 6424, 6435, 6446, 6457, 6468, 6479, 6490, 6501, 6512, 6523, 6534, 6545, 6556, 6567, 6578, 6589, 6600, 6611, 6622, 6633, 6644, 6655, 6666, 6677, 6688, 6699, 6710, 6721, 6732, 6743, 6754, 6765, 6776, 6787, 6798, 6809, 6820, 6831, 6842, 6853, 6864, 6875, 6886, 6897, 6908, 6919, 6930, 6941, 6952, 6963, 6974, 6985, 6996]\n"
     ]
    }
   ],
   "source": [
    "# TASK 2\n",
    "list2 = [n for n in range(5000, 7000) if n % 11 == 0]\n",
    "print(list2)"
   ]
  },
  {
   "cell_type": "code",
   "execution_count": 85,
   "metadata": {},
   "outputs": [
    {
     "output_type": "stream",
     "name": "stdout",
     "text": [
      "511\n611\n711\n811\n911\n"
     ]
    }
   ],
   "source": [
    "# TASK 3\n",
    "for n in range(500, 999):\n",
    "    if str(n)[1:] == \"11\":\n",
    "        print(n)"
   ]
  },
  {
   "cell_type": "code",
   "execution_count": 97,
   "metadata": {},
   "outputs": [
    {
     "output_type": "stream",
     "name": "stdout",
     "text": [
      "511\n611\n711\n811\n911\n"
     ]
    }
   ],
   "source": [
    "# TASK 3.1\n",
    "section_check = '11'\n",
    "check_len = len(section_check)\n",
    "for n in range(500, 999):\n",
    "    n = str(n)\n",
    "    for section_start in range(0, (len(n) - check_len) + 1):\n",
    "        if n[section_start : section_start + check_len] == section_check:\n",
    "            print(n)\n",
    "            break # only print each match once"
   ]
  },
  {
   "cell_type": "code",
   "execution_count": 87,
   "metadata": {},
   "outputs": [
    {
     "output_type": "stream",
     "name": "stdout",
     "text": [
      "[511, 611, 711, 811, 911]\n"
     ]
    }
   ],
   "source": [
    "# TASK 3.2\n",
    "result = [n for n in range(500, 999) if '11' in str(n)]\n",
    "print(result)"
   ]
  },
  {
   "cell_type": "code",
   "execution_count": 88,
   "metadata": {},
   "outputs": [
    {
     "output_type": "stream",
     "name": "stdout",
     "text": [
      "['odd', 'even', 'odd', 'even', 'odd', 'even', 'odd', 'even', 'odd', 'even']\n"
     ]
    }
   ],
   "source": [
    "# TASK 4\n",
    "list_4 = [i for i in range(199, 209)]\n",
    "oddness_list = ['odd' if i % 2 else 'even' for i in list_4]\n",
    "print(oddness_list)"
   ]
  },
  {
   "cell_type": "code",
   "execution_count": 89,
   "metadata": {},
   "outputs": [
    {
     "output_type": "stream",
     "name": "stdout",
     "text": [
      "[1, 2, -3, -4, -5, -6, -7, -8, 9, 10]\n"
     ]
    }
   ],
   "source": [
    "# TASK 5\n",
    "neg_start = 3 # lowest number to negate\n",
    "neg_end = 8 #highest number to negate (inclusive)\n",
    "list1 = [1, 2, 3, 4, 5, 6, 7, 8, 9, 10]\n",
    "list1 = [-i if i in range(neg_start, neg_end + 1) else i for i in list1]\n",
    "print(list1)"
   ]
  },
  {
   "cell_type": "code",
   "execution_count": 90,
   "metadata": {},
   "outputs": [
    {
     "output_type": "stream",
     "name": "stdout",
     "text": [
      "[1, 2, -3, -4, -5, -6, -7, -8, 9, 10]\n"
     ]
    }
   ],
   "source": [
    "# TASK 5.1\n",
    "neg_start = 3 # lowest number to negate\n",
    "neg_end = 8 #highest number to negate (inclusive)\n",
    "list1 = [1, 2, 3, 4, 5, 6, 7, 8, 9, 10]\n",
    "list1 = [-i if (i >= neg_start and i <= neg_end) else i for i in list1]\n",
    "print(list1)"
   ]
  },
  {
   "cell_type": "code",
   "execution_count": 91,
   "metadata": {},
   "outputs": [
    {
     "output_type": "stream",
     "name": "stdout",
     "text": [
      "[1, 2, -3, -4, -5, -6, -7, -8, -9, -10]\n[1, 2, -3, -4, -5, -6, -7, -8, 9, 10]\n"
     ]
    }
   ],
   "source": [
    "# TASK 5.2\n",
    "neg_start = 3 # lowest number to negate\n",
    "neg_end = 8 #highest number to negate (inclusive)\n",
    "list1 = [1, 2, 3, 4, 5, 6, 7, 8, 9, 10]\n",
    "list1 = [-i if i >= neg_start else i for i in list1]\n",
    "print(list1)\n",
    "list1 = [-i if -i > neg_end else i for i in list1]\n",
    "print(list1)"
   ]
  },
  {
   "cell_type": "code",
   "execution_count": 123,
   "metadata": {},
   "outputs": [
    {
     "output_type": "stream",
     "name": "stdout",
     "text": [
      "Hello, Miro!\n"
     ]
    }
   ],
   "source": [
    "def greet(name):\n",
    "    \"\"\"Print a greeting by name\"\"\"\n",
    "    print(f\"Hello, {name}!\")\n",
    "\n",
    "greet(\"Miro\")\n",
    "# print(greet.__doc__)\n",
    "# print(greet.__code__)\n",
    "# help(greet)"
   ]
  },
  {
   "cell_type": "code",
   "execution_count": null,
   "metadata": {},
   "outputs": [],
   "source": []
  }
 ]
}