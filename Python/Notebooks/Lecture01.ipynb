{
 "cells": [
  {
   "cell_type": "code",
   "execution_count": 1,
   "id": "placed-speaker",
   "metadata": {},
   "outputs": [
    {
     "name": "stdout",
     "output_type": "stream",
     "text": [
      "<class 'str'>\n"
     ]
    }
   ],
   "source": [
    "print(type('a'))"
   ]
  },
  {
   "cell_type": "code",
   "execution_count": 2,
   "id": "eight-calgary",
   "metadata": {},
   "outputs": [
    {
     "data": {
      "text/plain": [
       "str"
      ]
     },
     "execution_count": 2,
     "metadata": {},
     "output_type": "execute_result"
    }
   ],
   "source": [
    "type('a')"
   ]
  },
  {
   "cell_type": "code",
   "execution_count": 3,
   "id": "vietnamese-regular",
   "metadata": {},
   "outputs": [
    {
     "data": {
      "text/plain": [
       "1.79e+308"
      ]
     },
     "execution_count": 3,
     "metadata": {},
     "output_type": "execute_result"
    }
   ],
   "source": [
    "1.79e308"
   ]
  },
  {
   "cell_type": "code",
   "execution_count": 4,
   "id": "antique-travel",
   "metadata": {},
   "outputs": [
    {
     "data": {
      "text/plain": [
       "inf"
      ]
     },
     "execution_count": 4,
     "metadata": {},
     "output_type": "execute_result"
    }
   ],
   "source": [
    "1.8e308"
   ]
  },
  {
   "cell_type": "code",
   "execution_count": 5,
   "id": "aging-hungarian",
   "metadata": {},
   "outputs": [
    {
     "data": {
      "text/plain": [
       "float"
      ]
     },
     "execution_count": 5,
     "metadata": {},
     "output_type": "execute_result"
    }
   ],
   "source": [
    "type(1.79e308)"
   ]
  },
  {
   "cell_type": "code",
   "execution_count": 6,
   "id": "synthetic-jackson",
   "metadata": {},
   "outputs": [
    {
     "data": {
      "text/plain": [
       "float"
      ]
     },
     "execution_count": 6,
     "metadata": {},
     "output_type": "execute_result"
    }
   ],
   "source": [
    "type(1.8e308)"
   ]
  },
  {
   "cell_type": "code",
   "execution_count": 7,
   "id": "ranking-double",
   "metadata": {},
   "outputs": [],
   "source": [
    "mydict = {\n",
    "    \"word\": \"apple\",\n",
    "    \"length\": 5,\n",
    "    \"empty\": \"\",\n",
    "    \"palindrome\": False,\n",
    "    \"nesteddict\": {\n",
    "        \"a\": 1, \n",
    "        \"b\": 2\n",
    "    }\n",
    "}"
   ]
  },
  {
   "cell_type": "code",
   "execution_count": 8,
   "id": "continuous-pathology",
   "metadata": {},
   "outputs": [
    {
     "name": "stdout",
     "output_type": "stream",
     "text": [
      "apple\n"
     ]
    }
   ],
   "source": [
    "print(mydict[\"word\"])"
   ]
  },
  {
   "cell_type": "code",
   "execution_count": 9,
   "id": "certain-oliver",
   "metadata": {},
   "outputs": [
    {
     "name": "stdout",
     "output_type": "stream",
     "text": [
      "5\n"
     ]
    }
   ],
   "source": [
    "print(mydict[\"length\"])"
   ]
  },
  {
   "cell_type": "code",
   "execution_count": 10,
   "id": "therapeutic-college",
   "metadata": {},
   "outputs": [
    {
     "name": "stdout",
     "output_type": "stream",
     "text": [
      "False\n"
     ]
    }
   ],
   "source": [
    "print(mydict[\"palindrome\"])"
   ]
  },
  {
   "cell_type": "code",
   "execution_count": 11,
   "id": "cosmetic-contact",
   "metadata": {},
   "outputs": [
    {
     "data": {
      "text/plain": [
       "5"
      ]
     },
     "execution_count": 11,
     "metadata": {},
     "output_type": "execute_result"
    }
   ],
   "source": [
    "len(mydict)"
   ]
  },
  {
   "cell_type": "code",
   "execution_count": 12,
   "id": "useful-conference",
   "metadata": {},
   "outputs": [
    {
     "name": "stdout",
     "output_type": "stream",
     "text": [
      "1\n"
     ]
    }
   ],
   "source": [
    "print( (mydict[\"nesteddict\"]) [\"a\"] )"
   ]
  },
  {
   "cell_type": "code",
   "execution_count": 13,
   "id": "further-fluid",
   "metadata": {},
   "outputs": [
    {
     "name": "stdout",
     "output_type": "stream",
     "text": [
      "False\n"
     ]
    }
   ],
   "source": [
    "print(2*2==5)"
   ]
  },
  {
   "cell_type": "code",
   "execution_count": 14,
   "id": "narrative-yugoslavia",
   "metadata": {},
   "outputs": [
    {
     "data": {
      "text/plain": [
       "True"
      ]
     },
     "execution_count": 14,
     "metadata": {},
     "output_type": "execute_result"
    }
   ],
   "source": [
    "bool(mydict[\"word\"])"
   ]
  },
  {
   "cell_type": "code",
   "execution_count": 15,
   "id": "weird-table",
   "metadata": {},
   "outputs": [],
   "source": [
    "x = 2 - 2"
   ]
  },
  {
   "cell_type": "code",
   "execution_count": 16,
   "id": "expanded-principle",
   "metadata": {},
   "outputs": [
    {
     "name": "stdout",
     "output_type": "stream",
     "text": [
      "0\n",
      "False\n",
      "True\n"
     ]
    }
   ],
   "source": [
    "print(x)\n",
    "print(bool(x))\n",
    "print(bool(-2))"
   ]
  },
  {
   "cell_type": "code",
   "execution_count": 27,
   "id": "formed-silly",
   "metadata": {},
   "outputs": [
    {
     "data": {
      "text/plain": [
       "False"
      ]
     },
     "execution_count": 27,
     "metadata": {},
     "output_type": "execute_result"
    }
   ],
   "source": [
    "bool(1.1 - 0.2/2 - 1)"
   ]
  },
  {
   "cell_type": "code",
   "execution_count": 18,
   "id": "consolidated-sterling",
   "metadata": {},
   "outputs": [
    {
     "data": {
      "text/plain": [
       "False"
      ]
     },
     "execution_count": 18,
     "metadata": {},
     "output_type": "execute_result"
    }
   ],
   "source": [
    "bool(False)"
   ]
  },
  {
   "cell_type": "code",
   "execution_count": 19,
   "id": "acknowledged-repository",
   "metadata": {},
   "outputs": [
    {
     "data": {
      "text/plain": [
       "False"
      ]
     },
     "execution_count": 19,
     "metadata": {},
     "output_type": "execute_result"
    }
   ],
   "source": [
    "bool(None)"
   ]
  },
  {
   "cell_type": "code",
   "execution_count": 20,
   "id": "eight-auction",
   "metadata": {},
   "outputs": [
    {
     "data": {
      "text/plain": [
       "False"
      ]
     },
     "execution_count": 20,
     "metadata": {},
     "output_type": "execute_result"
    }
   ],
   "source": [
    "bool(0)"
   ]
  },
  {
   "cell_type": "code",
   "execution_count": 21,
   "id": "scientific-morning",
   "metadata": {},
   "outputs": [
    {
     "data": {
      "text/plain": [
       "False"
      ]
     },
     "execution_count": 21,
     "metadata": {},
     "output_type": "execute_result"
    }
   ],
   "source": [
    "bool(\"\")"
   ]
  },
  {
   "cell_type": "code",
   "execution_count": 22,
   "id": "devoted-bunny",
   "metadata": {},
   "outputs": [
    {
     "data": {
      "text/plain": [
       "False"
      ]
     },
     "execution_count": 22,
     "metadata": {},
     "output_type": "execute_result"
    }
   ],
   "source": [
    "bool(())"
   ]
  },
  {
   "cell_type": "code",
   "execution_count": 23,
   "id": "precious-difference",
   "metadata": {},
   "outputs": [
    {
     "data": {
      "text/plain": [
       "False"
      ]
     },
     "execution_count": 23,
     "metadata": {},
     "output_type": "execute_result"
    }
   ],
   "source": [
    "bool([])"
   ]
  },
  {
   "cell_type": "code",
   "execution_count": 24,
   "id": "differential-virgin",
   "metadata": {},
   "outputs": [
    {
     "data": {
      "text/plain": [
       "False"
      ]
     },
     "execution_count": 24,
     "metadata": {},
     "output_type": "execute_result"
    }
   ],
   "source": [
    "bool({})"
   ]
  },
  {
   "cell_type": "code",
   "execution_count": 25,
   "id": "blond-desert",
   "metadata": {},
   "outputs": [
    {
     "data": {
      "text/plain": [
       "True"
      ]
     },
     "execution_count": 25,
     "metadata": {},
     "output_type": "execute_result"
    }
   ],
   "source": [
    "bool(mydict)"
   ]
  },
  {
   "cell_type": "code",
   "execution_count": 26,
   "id": "pleasant-coaching",
   "metadata": {},
   "outputs": [
    {
     "data": {
      "text/plain": [
       "False"
      ]
     },
     "execution_count": 26,
     "metadata": {},
     "output_type": "execute_result"
    }
   ],
   "source": [
    "bool(mydict[\"empty\"])"
   ]
  },
  {
   "cell_type": "code",
   "execution_count": null,
   "id": "renewable-strengthening",
   "metadata": {},
   "outputs": [],
   "source": []
  },
  {
   "cell_type": "code",
   "execution_count": 33,
   "id": "gorgeous-product",
   "metadata": {},
   "outputs": [
    {
     "name": "stdout",
     "output_type": "stream",
     "text": [
      "back\\slash double\\slash\n"
     ]
    }
   ],
   "source": [
    "print(\"back\\slash double\\\\slash\")"
   ]
  },
  {
   "cell_type": "code",
   "execution_count": 48,
   "id": "occupational-bargain",
   "metadata": {},
   "outputs": [
    {
     "name": "stdout",
     "output_type": "stream",
     "text": [
      "This string contains a \" ' \" character and spans multiple lines in the code.\n"
     ]
    }
   ],
   "source": [
    "print( \"This string contains a \\\" ' \\\" character \\\n",
    "and spans multiple lines in the code.\" )"
   ]
  },
  {
   "cell_type": "code",
   "execution_count": 49,
   "id": "subject-consultation",
   "metadata": {},
   "outputs": [
    {
     "name": "stdout",
     "output_type": "stream",
     "text": [
      "Double \"quotes\" inside string.\n"
     ]
    }
   ],
   "source": [
    "print('Double \"quotes\" inside string.')"
   ]
  },
  {
   "cell_type": "code",
   "execution_count": 64,
   "id": "growing-indie",
   "metadata": {},
   "outputs": [
    {
     "ename": "SyntaxError",
     "evalue": "(unicode error) 'unicodeescape' codec can't decode bytes in position 7-25: unknown Unicode character name (<ipython-input-64-b7cedc1c4e32>, line 1)",
     "output_type": "error",
     "traceback": [
      "\u001b[0;36m  File \u001b[0;32m\"<ipython-input-64-b7cedc1c4e32>\"\u001b[0;36m, line \u001b[0;32m1\u001b[0m\n\u001b[0;31m    print(\"\\u2192 \\N{righwards arrow}\")\u001b[0m\n\u001b[0m          ^\u001b[0m\n\u001b[0;31mSyntaxError\u001b[0m\u001b[0;31m:\u001b[0m (unicode error) 'unicodeescape' codec can't decode bytes in position 7-25: unknown Unicode character name\n"
     ]
    }
   ],
   "source": [
    "print(\"\\u2192 \\N{righwards arrow}\")"
   ]
  },
  {
   "cell_type": "code",
   "execution_count": 68,
   "id": "enabling-kinase",
   "metadata": {},
   "outputs": [
    {
     "name": "stdout",
     "output_type": "stream",
     "text": [
      "raw\\backslash double\\\\backslash\n"
     ]
    }
   ],
   "source": [
    "print(r\"raw\\backslash double\\\\backslash\")"
   ]
  },
  {
   "cell_type": "code",
   "execution_count": 70,
   "id": "annoying-consolidation",
   "metadata": {},
   "outputs": [
    {
     "name": "stdout",
     "output_type": "stream",
     "text": [
      "non-raackslash double\\backslash\n"
     ]
    }
   ],
   "source": [
    "print(\"non-raw\\backslash double\\\\backslash\")"
   ]
  },
  {
   "cell_type": "code",
   "execution_count": 71,
   "id": "moved-actor",
   "metadata": {},
   "outputs": [
    {
     "name": "stdout",
     "output_type": "stream",
     "text": [
      "Multiline\n",
      "\"string\"\n",
      "with quotes.\n"
     ]
    }
   ],
   "source": [
    "print('''Multiline\n",
    "\"string\"\n",
    "with quotes.''')"
   ]
  },
  {
   "cell_type": "code",
   "execution_count": 73,
   "id": "refined-christianity",
   "metadata": {},
   "outputs": [
    {
     "name": "stdout",
     "output_type": "stream",
     "text": [
      "foo'bar\n",
      "foo'bar\n",
      "foo'bar\n"
     ]
    }
   ],
   "source": [
    "print(\"foo'bar\")\n",
    "print(\"\"\"foo'bar\"\"\")\n",
    "print('foo\\'bar')"
   ]
  },
  {
   "cell_type": "code",
   "execution_count": 74,
   "id": "pregnant-album",
   "metadata": {},
   "outputs": [
    {
     "name": "stdout",
     "output_type": "stream",
     "text": [
      "foo\\\\bar\\nbaz\n"
     ]
    }
   ],
   "source": [
    "print(r'foo\\\\bar\\nbaz')"
   ]
  },
  {
   "cell_type": "code",
   "execution_count": null,
   "id": "burning-martial",
   "metadata": {},
   "outputs": [],
   "source": []
  }
 ],
 "metadata": {
  "kernelspec": {
   "display_name": "Python 3",
   "language": "python",
   "name": "python3"
  },
  "language_info": {
   "codemirror_mode": {
    "name": "ipython",
    "version": 3
   },
   "file_extension": ".py",
   "mimetype": "text/x-python",
   "name": "python",
   "nbconvert_exporter": "python",
   "pygments_lexer": "ipython3",
   "version": "3.8.6"
  }
 },
 "nbformat": 4,
 "nbformat_minor": 5
}
